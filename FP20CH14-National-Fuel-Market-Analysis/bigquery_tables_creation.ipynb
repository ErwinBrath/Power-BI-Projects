{
 "cells": [
  {
   "cell_type": "code",
   "execution_count": 17,
   "metadata": {},
   "outputs": [],
   "source": [
    "import pandas as pd\n",
    "from google.cloud import bigquery\n",
    "project_id = 'useful-ward-284119'\n",
    "client = bigquery.Client(project_id)"
   ]
  },
  {
   "cell_type": "code",
   "execution_count": 18,
   "metadata": {},
   "outputs": [],
   "source": [
    "dataset_id = 'ER_FP20_2024_CH14'\n",
    "table_id = 'TEST_1'\n",
    "\n",
    "schema = [\n",
    "    bigquery.SchemaField(\"field1\", \"STRING\", mode=\"NULLABLE\"),\n",
    "    bigquery.SchemaField(\"field2\", \"INTEGER\", mode=\"NULLABLE\"),\n",
    "    # Add more fields as needed\n",
    "]\n",
    "table = bigquery.Table(f'{project_id}.{dataset_id}.{table_id}', schema=schema)\n",
    "table = client.create_table(table, exists_ok=True)"
   ]
  },
  {
   "cell_type": "markdown",
   "metadata": {},
   "source": []
  },
  {
   "cell_type": "code",
   "execution_count": null,
   "metadata": {},
   "outputs": [],
   "source": []
  }
 ],
 "metadata": {
  "kernelspec": {
   "display_name": "Power-BI-Projects-t4jBiCZv",
   "language": "python",
   "name": "python3"
  },
  "language_info": {
   "codemirror_mode": {
    "name": "ipython",
    "version": 3
   },
   "file_extension": ".py",
   "mimetype": "text/x-python",
   "name": "python",
   "nbconvert_exporter": "python",
   "pygments_lexer": "ipython3",
   "version": "3.9.13"
  }
 },
 "nbformat": 4,
 "nbformat_minor": 2
}
